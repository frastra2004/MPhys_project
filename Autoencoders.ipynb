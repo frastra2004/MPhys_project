{
 "cells": [
  {
   "cell_type": "code",
   "execution_count": 1,
   "metadata": {},
   "outputs": [],
   "source": [
    "import matplotlib.pyplot as plt\n",
    "import numpy as np\n",
    "import pandas as pd\n",
    "import tensorflow as tf\n",
    "\n",
    "from sklearn.metrics import accuracy_score, precision_score, recall_score\n",
    "from sklearn.model_selection import train_test_split\n",
    "from tensorflow.keras import layers, losses\n",
    "\n",
    "from tensorflow.keras.models import Model\n"
   ]
  },
  {
   "cell_type": "code",
   "execution_count": 2,
   "metadata": {},
   "outputs": [],
   "source": [
    "from S1_generator.S1_event_generator import S1_event\n",
    "X3 = np.ndarray(shape=(10000,5000))\n",
    "Y3 = np.zeros((10000,5000))\n",
    "for i in range(10000):\n",
    "\n",
    "    X3[i,:],n,p = S1_event(3)\n",
    "    p1 = np.zeros(len(p))\n",
    "    for j in range(len(p)):\n",
    "        p1[j] = p[j]\n",
    "    Y3[i,p]=1\n",
    "\n",
    "a=np.ndarray(shape=(10000,5000))\n",
    "b=np.zeros((10000,5000))\n",
    "for i in range(10000):\n",
    "\n",
    "    a[i,:],n,p = S1_event(7)\n",
    "    p1 = np.zeros(len(p))\n",
    "    for j in range(len(p)):\n",
    "        p1[j] = p[j]\n",
    "    b[i,p]=1\n",
    "X3=np.concatenate((X3,a))\n",
    "Y3=np.concatenate((Y3,b))\n",
    "\n",
    "a=np.ndarray(shape=(10000,5000))\n",
    "b=np.zeros((10000,5000))\n",
    "for i in range(10000):\n",
    "\n",
    "    a[i,:],n,p = S1_event(10)\n",
    "    p1 = np.zeros(len(p))\n",
    "    for j in range(len(p)):\n",
    "        p1[j] = p[j]\n",
    "    b[i,p]=1\n",
    "X3=np.concatenate((X3,a))\n",
    "Y3=np.concatenate((Y3,b))\n",
    "\n",
    "a=np.ndarray(shape=(10000,5000))\n",
    "b=np.zeros((10000,5000))\n",
    "for i in range(10000):\n",
    "\n",
    "    a[i,:],n,p = S1_event(14)\n",
    "    p1 = np.zeros(len(p))\n",
    "    for j in range(len(p)):\n",
    "        p1[j] = p[j]\n",
    "    b[i,p]=1\n",
    "X3=np.concatenate((X3,a))\n",
    "Y3=np.concatenate((Y3,b))\n",
    "\n"
   ]
  },
  {
   "cell_type": "code",
   "execution_count": 6,
   "metadata": {},
   "outputs": [],
   "source": [
    "#dicto = np.concatenate((X3,Y3),axis=1)\n",
    "#np.savetxt('/Users/francescostraniero/Documents/Pembroke_4th_year/MPhys_Proj/S1_training_set.txt',dicto)"
   ]
  },
  {
   "cell_type": "code",
   "execution_count": 7,
   "metadata": {},
   "outputs": [],
   "source": [
    "#np.savetxt('/Users/francescostraniero/Documents/Pembroke_4th_year/MPhys_Proj/S1_training_set.txt',dicto)"
   ]
  },
  {
   "cell_type": "code",
   "execution_count": null,
   "metadata": {},
   "outputs": [],
   "source": [
    "'''\n",
    "import zipfile\n",
    "a = {}\n",
    "\n",
    "with zipfile.ZipFile('/Users/francescostraniero/Documents/Pembroke_4th_year/MPhys_Proj/S1_training_set.txt.zip') as zipper:\n",
    "    for p in zipper.namelist():\n",
    "        with zipper.read(p) as f:\n",
    "            a[p] = np.load(f)\n",
    "'''\n"
   ]
  },
  {
   "cell_type": "code",
   "execution_count": null,
   "metadata": {},
   "outputs": [],
   "source": [
    "from sklearn.model_selection import train_test_split\n",
    "x_train, x_test, y_train, y_test = train_test_split(X3, Y3, test_size=0.2, random_state=42)\n"
   ]
  },
  {
   "cell_type": "code",
   "execution_count": null,
   "metadata": {},
   "outputs": [],
   "source": [
    "class Autoencoder(Model):\n",
    "  def __init__(self, latent_dim, shape):\n",
    "    super(Autoencoder, self).__init__()\n",
    "    self.latent_dim = latent_dim\n",
    "    self.shape = shape\n",
    "    self.encoder = tf.keras.Sequential([\n",
    "      layers.Flatten(),\n",
    "      layers.Dense(latent_dim, activation='relu'),\n",
    "    ])\n",
    "    self.decoder = tf.keras.Sequential([\n",
    "      layers.Dense(tf.math.reduce_prod(shape).numpy(), activation='sigmoid'),\n",
    "      layers.Reshape(shape)\n",
    "    ])\n",
    "\n",
    "  def call(self, x):\n",
    "    encoded = self.encoder(x)\n",
    "    decoded = self.decoder(encoded)\n",
    "    return decoded\n",
    "\n",
    "\n",
    "shape = x_test.shape[1:]\n",
    "latent_dim = 64\n",
    "autoencoder = Autoencoder(latent_dim, shape)"
   ]
  },
  {
   "cell_type": "code",
   "execution_count": null,
   "metadata": {},
   "outputs": [],
   "source": [
    "autoencoder.compile(optimizer='adam', loss=losses.MeanSquaredError())"
   ]
  },
  {
   "cell_type": "code",
   "execution_count": null,
   "metadata": {},
   "outputs": [],
   "source": [
    "autoencoder.fit(x_train, x_train,\n",
    "                epochs=10,\n",
    "                shuffle=True,\n",
    "                validation_data=(x_test, x_test))"
   ]
  },
  {
   "cell_type": "code",
   "execution_count": 3,
   "metadata": {},
   "outputs": [
    {
     "data": {
      "text/plain": [
       "array([[0., 0.],\n",
       "       [0., 0.],\n",
       "       [0., 0.]])"
      ]
     },
     "execution_count": 3,
     "metadata": {},
     "output_type": "execute_result"
    }
   ],
   "source": [
    "np.zeros((3,2))"
   ]
  }
 ],
 "metadata": {
  "kernelspec": {
   "display_name": "base",
   "language": "python",
   "name": "python3"
  },
  "language_info": {
   "codemirror_mode": {
    "name": "ipython",
    "version": 3
   },
   "file_extension": ".py",
   "mimetype": "text/x-python",
   "name": "python",
   "nbconvert_exporter": "python",
   "pygments_lexer": "ipython3",
   "version": "3.11.6"
  }
 },
 "nbformat": 4,
 "nbformat_minor": 2
}
