{
 "cells": [
  {
   "cell_type": "code",
   "execution_count": 7,
   "metadata": {},
   "outputs": [],
   "source": [
    "import numpy as np\n",
    "import matplotlib.pyplot as plt\n",
    "import pandas as pd\n",
    "import scipy.signal as sc"
   ]
  },
  {
   "cell_type": "code",
   "execution_count": null,
   "metadata": {},
   "outputs": [],
   "source": [
    "import time\n",
    "import threading\n",
    "\n",
    "class PeriodicSleeper(threading.Thread):\n",
    "    def __init__(self, task_function, period):\n",
    "        super().__init__()\n",
    "        self.task_function = task_function\n",
    "        self.period = period\n",
    "        self.i = 0\n",
    "        self.t0 = time.time()\n",
    "        self.start()\n",
    "\n",
    "    def sleep(self):\n",
    "        self.i += 1\n",
    "        delta = self.t0 + self.period * self.i - time.time()\n",
    "        if delta > 0:\n",
    "            time.sleep(delta)\n",
    "    \n",
    "    def run(self):\n",
    "        while True:\n",
    "            self.task_function()\n",
    "            self.sleep()"
   ]
  },
  {
   "cell_type": "code",
   "execution_count": null,
   "metadata": {},
   "outputs": [],
   "source": [
    "def task():\n",
    "    t = time.time()\n",
    "    if abs(t - round(t)) <= 0.0005:\n",
    "        print(t, 'Mean Frequency:', sleeper.i / (t - sleeper.t0))\n",
    "\n",
    "sleeper = PeriodicSleeper(task, 0.001)"
   ]
  },
  {
   "cell_type": "code",
   "execution_count": null,
   "metadata": {},
   "outputs": [],
   "source": [
    "import numpy as np\n",
    "import matplotlib.pyplot as plt\n",
    "\n",
    "\n",
    "s = np.random.poisson(1, 10000)\n",
    "import matplotlib.pyplot as plt\n",
    "count, bins, ignored = plt.hist(s, 101, density=True)\n",
    "plt.show()\n",
    "#print(10*count)\n",
    "print(len(count))"
   ]
  },
  {
   "cell_type": "code",
   "execution_count": null,
   "metadata": {},
   "outputs": [],
   "source": [
    "import pandas as pd\n",
    "file = '/Users/francescostraniero/Documents/Pembroke_4th_year/MPhys_Proj/myfile.csv'\n",
    "df = pd.read_csv(file)\n",
    "df.iloc[:,0]=0\n",
    "lenght = df.shape[1]\n",
    "for i in df.columns:\n",
    "\n",
    "    y = df[str(i)]\n",
    "    x = np.linspace(0,len(y),len(y))\n",
    "    plt.plot(x,y)\n",
    "\n",
    "plt.xlabel('time (10*ms)')\n",
    "plt.ylabel('Transformed signal intensity (a.u.)')\n",
    "'''\n",
    "for i in range(50,60):\n",
    "    y = df[str(i)]\n",
    "    x = np.linspace(0,len(y),len(y))\n",
    "    plt.plot(x,y)\n",
    "'''"
   ]
  },
  {
   "cell_type": "code",
   "execution_count": null,
   "metadata": {},
   "outputs": [],
   "source": [
    "y = df.iloc[:,3]\n",
    "x = np.linspace(0,len(y),len(y))\n",
    "plt.plot(x,y)\n",
    "plt.xlabel('time (10*ms)')\n",
    "plt.ylabel('Transformed signal intensity (a.u.)')\n",
    "plt.title('Transformed signal with lower pulse intensity')"
   ]
  },
  {
   "cell_type": "code",
   "execution_count": null,
   "metadata": {},
   "outputs": [],
   "source": [
    "\n",
    "timings = []\n",
    "for i in df.columns:\n",
    "    l = float(i)\n",
    "    timings.append(float(i))\n",
    "print(timings)\n",
    "\n",
    "diffs = []\n",
    "\n",
    "for i in range(len(timings)-1):\n",
    "    diffs.append(timings[i+1]-timings[i])\n",
    "\n",
    "print(diffs)"
   ]
  },
  {
   "cell_type": "code",
   "execution_count": null,
   "metadata": {},
   "outputs": [],
   "source": []
  },
  {
   "cell_type": "code",
   "execution_count": null,
   "metadata": {},
   "outputs": [],
   "source": [
    "r = np.random.exponential(1, size=50)\n",
    "\n",
    "print(np.mean(r))\n",
    "count, bins, errors = plt.hist(r,bins = 100)"
   ]
  },
  {
   "cell_type": "code",
   "execution_count": null,
   "metadata": {},
   "outputs": [],
   "source": [
    "from adc_filter import adc_filter_func"
   ]
  },
  {
   "cell_type": "code",
   "execution_count": null,
   "metadata": {},
   "outputs": [],
   "source": [
    "arr = np.zeros([100,100])\n",
    "\n",
    "for i in range(100):\n",
    "    arr[i,:] = i\n",
    "\n",
    "print(arr)\n",
    "arr[:,-1]"
   ]
  },
  {
   "cell_type": "code",
   "execution_count": null,
   "metadata": {},
   "outputs": [],
   "source": [
    "import numpy as np\n",
    "import matplotlib.pyplot as plt\n",
    "x= np.zeros(1000)\n",
    "photo_electrons = np.zeros(100)\n",
    "s = np.random.exponential(1, 1000)\n",
    "count, bins = np.histogram(s, 100, density=True)\n",
    "count = 900 * count\n",
    "photo_electrons = np.add(photo_electrons, count)\n",
    "y_vals = np.linspace(599, 699, 100, dtype=int)\n",
    "\n",
    "for idx in y_vals:\n",
    "    x[idx] = count[idx-600] if idx < (600+len(count)) else 0\n",
    "\n",
    "x_axis = np.linspace(0,1000,1000)\n",
    "plt.plot(x_axis,x)\n",
    "plt.xlabel('time(10*ms)')\n",
    "plt.ylabel('Signal Intensity (a.u.)')\n",
    "\n",
    "plt.title('Example of photoelectrons current registered at anode, after one S1 event.')"
   ]
  },
  {
   "cell_type": "code",
   "execution_count": null,
   "metadata": {},
   "outputs": [],
   "source": [
    "zeros = np.zeros(20)\n",
    "sample= np.append(zeros,x)\n",
    "sample = np.append(sample,zeros)\n",
    "sample = np.append(sample,x)\n",
    "\n",
    "x_axis = np.linspace(0,len(sample),len(sample))\n",
    "\n",
    "plt.plot(x_axis,sample)"
   ]
  },
  {
   "cell_type": "code",
   "execution_count": null,
   "metadata": {},
   "outputs": [],
   "source": [
    "y = adc_filter_func(sample,[0.012,0.02])\n",
    "plt.plot(x_axis,y, linewidth = 0.4)\n"
   ]
  },
  {
   "cell_type": "markdown",
   "metadata": {},
   "source": []
  },
  {
   "cell_type": "code",
   "execution_count": null,
   "metadata": {},
   "outputs": [],
   "source": [
    "from S1_event_generator import S1_event\n",
    "\n",
    "\n",
    "y, numb, pos= S1_event(5)\n",
    "\n",
    "plt.plot(np.arange(0,len(y),1),y)"
   ]
  },
  {
   "cell_type": "code",
   "execution_count": null,
   "metadata": {},
   "outputs": [],
   "source": [
    "import scipy.signal as sc\n",
    "\n",
    "noise_std = np.std(y[0:1000])\n",
    "noise_mean = np.mean(y[0:1000])\n",
    "pod_threshold = noise_mean+(5.9*noise_std)\n",
    "peaks, props = sc.find_peaks(y, height=pod_threshold,prominence=7,wlen=10)\n",
    "print(noise_std)\n",
    "print(peaks)\n",
    "print(numb)\n",
    "print(pos)"
   ]
  },
  {
   "cell_type": "code",
   "execution_count": null,
   "metadata": {},
   "outputs": [],
   "source": [
    "s = [peaks[0]]\n",
    "\n",
    "for i in range(len(peaks)-1):\n",
    "    if peaks[i+1]-peaks[i]<500:\n",
    "        start =peaks[i]\n",
    "        stop=peaks[i+1]\n",
    "            \n",
    "        if np.min(y[start:stop])<1.5*pod_threshold:\n",
    "            s.append(peaks[i])\n",
    "\n",
    "print(s)\n"
   ]
  },
  {
   "cell_type": "code",
   "execution_count": null,
   "metadata": {},
   "outputs": [],
   "source": [
    "peaks_cwt = sc.find_peaks_cwt(y,widths=60)\n",
    "\n",
    "print(peaks_cwt)\n",
    "print(numb)\n",
    "print(pos)"
   ]
  },
  {
   "cell_type": "code",
   "execution_count": null,
   "metadata": {},
   "outputs": [],
   "source": [
    "y_max = np.max(y)\n",
    "\n",
    "refined_peaks_cwt =[]\n",
    "for i in range(len(peaks_cwt)):\n",
    "    if y[peaks_cwt[i]] > 0.3*y_max:\n",
    "        refined_peaks_cwt.append(peaks_cwt[i])\n",
    "        \n",
    "print(refined_peaks_cwt)\n",
    "\n"
   ]
  },
  {
   "cell_type": "code",
   "execution_count": 8,
   "metadata": {},
   "outputs": [],
   "source": [
    "def peak_identifier(array):\n",
    "    peaks_cwt = sc.find_peaks_cwt(y,widths=60)\n",
    "\n",
    "    y_max = np.max(y)\n",
    "    refined_peaks_cwt =[]\n",
    "\n",
    "    for i in range(len(peaks_cwt)):\n",
    "        if y[peaks_cwt[i]] > 0.3*y_max:\n",
    "            refined_peaks_cwt.append(peaks_cwt[i])\n",
    "    return(refined_peaks_cwt)\n"
   ]
  },
  {
   "cell_type": "code",
   "execution_count": 9,
   "metadata": {},
   "outputs": [],
   "source": [
    "from S1_event_generator import S1_event\n",
    "\n",
    "\n",
    "number_of_events = 15\n",
    "results = np.empty((2,number_of_events))\n",
    "\n",
    "\n",
    "for i in range(100):\n",
    "    y, numb, pos= S1_event(number_of_events)\n",
    "\n",
    "    measured_peaks = peak_identifier(y)\n",
    "\n",
    "    if len(pos) == number_of_events:\n",
    "        results = np.vstack((results, pos))\n",
    "    else:\n",
    "        extras_zeros = number_of_events-len(pos)\n",
    "        pos = np.append(pos,np.zeros(extras_zeros))\n",
    "        results = np.vstack((results, pos))\n",
    "\n",
    "    \n",
    "    if len(measured_peaks)==number_of_events:\n",
    "        results = np.vstack((results, measured_peaks))\n",
    "    else:\n",
    "        extra_zeros = number_of_events-len(measured_peaks)\n",
    "        measured_peaks = np.append(measured_peaks,np.zeros(extra_zeros))\n",
    "        results = np.vstack((results, measured_peaks))\n",
    "    \n",
    "\n"
   ]
  },
  {
   "cell_type": "code",
   "execution_count": null,
   "metadata": {},
   "outputs": [],
   "source": [
    "print(pos)"
   ]
  },
  {
   "cell_type": "code",
   "execution_count": 10,
   "metadata": {},
   "outputs": [
    {
     "data": {
      "text/html": [
       "<div>\n",
       "<style scoped>\n",
       "    .dataframe tbody tr th:only-of-type {\n",
       "        vertical-align: middle;\n",
       "    }\n",
       "\n",
       "    .dataframe tbody tr th {\n",
       "        vertical-align: top;\n",
       "    }\n",
       "\n",
       "    .dataframe thead th {\n",
       "        text-align: right;\n",
       "    }\n",
       "</style>\n",
       "<table border=\"1\" class=\"dataframe\">\n",
       "  <thead>\n",
       "    <tr style=\"text-align: right;\">\n",
       "      <th></th>\n",
       "      <th>0</th>\n",
       "      <th>1</th>\n",
       "      <th>2</th>\n",
       "      <th>3</th>\n",
       "      <th>4</th>\n",
       "      <th>5</th>\n",
       "      <th>6</th>\n",
       "      <th>7</th>\n",
       "      <th>8</th>\n",
       "      <th>9</th>\n",
       "      <th>10</th>\n",
       "      <th>11</th>\n",
       "      <th>12</th>\n",
       "      <th>13</th>\n",
       "      <th>14</th>\n",
       "    </tr>\n",
       "  </thead>\n",
       "  <tbody>\n",
       "    <tr>\n",
       "      <th>0</th>\n",
       "      <td>2000.0</td>\n",
       "      <td>2031.0</td>\n",
       "      <td>2182.0</td>\n",
       "      <td>2256.0</td>\n",
       "      <td>2311.0</td>\n",
       "      <td>2433.0</td>\n",
       "      <td>2664.0</td>\n",
       "      <td>3153.0</td>\n",
       "      <td>3301.0</td>\n",
       "      <td>4423.0</td>\n",
       "      <td>5013.0</td>\n",
       "      <td>6234.0</td>\n",
       "      <td>6483.0</td>\n",
       "      <td>6939.0</td>\n",
       "      <td>11999.0</td>\n",
       "    </tr>\n",
       "    <tr>\n",
       "      <th>1</th>\n",
       "      <td>2077.0</td>\n",
       "      <td>2337.0</td>\n",
       "      <td>3208.0</td>\n",
       "      <td>3366.0</td>\n",
       "      <td>4490.0</td>\n",
       "      <td>5080.0</td>\n",
       "      <td>6299.0</td>\n",
       "      <td>6552.0</td>\n",
       "      <td>7005.0</td>\n",
       "      <td>12065.0</td>\n",
       "      <td>0.0</td>\n",
       "      <td>0.0</td>\n",
       "      <td>0.0</td>\n",
       "      <td>0.0</td>\n",
       "      <td>0.0</td>\n",
       "    </tr>\n",
       "    <tr>\n",
       "      <th>2</th>\n",
       "      <td>2000.0</td>\n",
       "      <td>2023.0</td>\n",
       "      <td>2030.0</td>\n",
       "      <td>2162.0</td>\n",
       "      <td>2164.0</td>\n",
       "      <td>2644.0</td>\n",
       "      <td>2776.0</td>\n",
       "      <td>2899.0</td>\n",
       "      <td>3089.0</td>\n",
       "      <td>3114.0</td>\n",
       "      <td>3259.0</td>\n",
       "      <td>3482.0</td>\n",
       "      <td>3910.0</td>\n",
       "      <td>4204.0</td>\n",
       "      <td>11999.0</td>\n",
       "    </tr>\n",
       "    <tr>\n",
       "      <th>3</th>\n",
       "      <td>2077.0</td>\n",
       "      <td>0.0</td>\n",
       "      <td>0.0</td>\n",
       "      <td>0.0</td>\n",
       "      <td>0.0</td>\n",
       "      <td>0.0</td>\n",
       "      <td>0.0</td>\n",
       "      <td>0.0</td>\n",
       "      <td>0.0</td>\n",
       "      <td>0.0</td>\n",
       "      <td>0.0</td>\n",
       "      <td>0.0</td>\n",
       "      <td>0.0</td>\n",
       "      <td>0.0</td>\n",
       "      <td>0.0</td>\n",
       "    </tr>\n",
       "    <tr>\n",
       "      <th>4</th>\n",
       "      <td>2000.0</td>\n",
       "      <td>2214.0</td>\n",
       "      <td>2274.0</td>\n",
       "      <td>2994.0</td>\n",
       "      <td>3166.0</td>\n",
       "      <td>3280.0</td>\n",
       "      <td>3425.0</td>\n",
       "      <td>3737.0</td>\n",
       "      <td>3764.0</td>\n",
       "      <td>3782.0</td>\n",
       "      <td>3882.0</td>\n",
       "      <td>4430.0</td>\n",
       "      <td>6077.0</td>\n",
       "      <td>6484.0</td>\n",
       "      <td>11999.0</td>\n",
       "    </tr>\n",
       "  </tbody>\n",
       "</table>\n",
       "</div>"
      ],
      "text/plain": [
       "       0       1       2       3       4       5       6       7       8   \\\n",
       "0  2000.0  2031.0  2182.0  2256.0  2311.0  2433.0  2664.0  3153.0  3301.0   \n",
       "1  2077.0  2337.0  3208.0  3366.0  4490.0  5080.0  6299.0  6552.0  7005.0   \n",
       "2  2000.0  2023.0  2030.0  2162.0  2164.0  2644.0  2776.0  2899.0  3089.0   \n",
       "3  2077.0     0.0     0.0     0.0     0.0     0.0     0.0     0.0     0.0   \n",
       "4  2000.0  2214.0  2274.0  2994.0  3166.0  3280.0  3425.0  3737.0  3764.0   \n",
       "\n",
       "        9       10      11      12      13       14  \n",
       "0   4423.0  5013.0  6234.0  6483.0  6939.0  11999.0  \n",
       "1  12065.0     0.0     0.0     0.0     0.0      0.0  \n",
       "2   3114.0  3259.0  3482.0  3910.0  4204.0  11999.0  \n",
       "3      0.0     0.0     0.0     0.0     0.0      0.0  \n",
       "4   3782.0  3882.0  4430.0  6077.0  6484.0  11999.0  "
      ]
     },
     "execution_count": 10,
     "metadata": {},
     "output_type": "execute_result"
    }
   ],
   "source": [
    "results1 = np.delete(results,(0,1),0)\n",
    "df = pd.DataFrame(results1)\n",
    "\n",
    "file_path = '/Users/francescostraniero/Documents/Pembroke_4th_year/MPhys_Proj/100events_15peaks2.csv'\n",
    "df.to_csv(file_path,mode='w',index = False)\n",
    "df.head()"
   ]
  }
 ],
 "metadata": {
  "kernelspec": {
   "display_name": "Python 3.11.5 ('base')",
   "language": "python",
   "name": "python3"
  },
  "language_info": {
   "codemirror_mode": {
    "name": "ipython",
    "version": 3
   },
   "file_extension": ".py",
   "mimetype": "text/x-python",
   "name": "python",
   "nbconvert_exporter": "python",
   "pygments_lexer": "ipython3",
   "version": "3.11.5"
  },
  "orig_nbformat": 4,
  "vscode": {
   "interpreter": {
    "hash": "f1e70b7817fc2acd15a9b8fc3815e293e088f2554dcf67af826af76503282d5b"
   }
  }
 },
 "nbformat": 4,
 "nbformat_minor": 2
}
