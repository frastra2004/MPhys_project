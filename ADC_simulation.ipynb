{
 "cells": [
  {
   "cell_type": "code",
   "execution_count": 1,
   "metadata": {},
   "outputs": [],
   "source": [
    "import numpy as np\n",
    "import matplotlib.pyplot as plt\n",
    "import random as rd\n",
    "\n",
    "\n",
    "\n",
    "\n",
    "\n",
    "def seed_photons(array_lenght,min_ph,max_ph):\n",
    "    arr = np.zeros(array_lenght)\n",
    "    for i in range(len(arr)):\n",
    "        arr[i]=rd.random()\n",
    "\n",
    "    n_photons = rd.randint(min_ph,max_ph)\n",
    "\n",
    "    for i in range(n_photons):\n",
    "        Phot_position= rd.randint(1,round(array_lenght/2))\n",
    "        arr[Phot_position]= (rd.random() + rd.randint(100,400))\n",
    "    \n",
    "    return(arr,n_photons)\n",
    "\n"
   ]
  },
  {
   "cell_type": "code",
   "execution_count": null,
   "metadata": {},
   "outputs": [],
   "source": [
    "(arr,n) = seed_photons(129,2,2)\n",
    "x = np.linspace(0,128,129)\n",
    "plt.plot(x,arr)"
   ]
  },
  {
   "cell_type": "code",
   "execution_count": null,
   "metadata": {},
   "outputs": [],
   "source": [
    "def low_pass_filter(array,tau):\n",
    "    arr1 = np.zeros(len(arr))\n",
    "\n",
    "    accu = array[0]\n",
    "\n",
    "    for i in range(0,len(array)):\n",
    "        b = tau#(1-np.exp(-tau))\n",
    "        accu = (accu + b*(arr[i]-accu))\n",
    "        arr1[i]=accu\n",
    "\n",
    "    plt.plot(x,arr1)\n",
    "    return arr1\n",
    "    "
   ]
  },
  {
   "cell_type": "code",
   "execution_count": null,
   "metadata": {},
   "outputs": [],
   "source": [
    "new_arr = low_pass_filter(arr,0.5)\n",
    "#print(new_arr)"
   ]
  },
  {
   "cell_type": "code",
   "execution_count": null,
   "metadata": {},
   "outputs": [],
   "source": [
    "final= low_pass_filter(new_arr,0.05)\n",
    "\n",
    "#plt.plot(x,final)"
   ]
  },
  {
   "cell_type": "code",
   "execution_count": 2,
   "metadata": {},
   "outputs": [
    {
     "data": {
      "text/plain": [
       "[<matplotlib.lines.Line2D at 0x10e76dc50>]"
      ]
     },
     "execution_count": 2,
     "metadata": {},
     "output_type": "execute_result"
    },
    {
     "data": {
      "image/png": "[encoded data removed]",
      "text/plain": [
       "<Figure size 640x480 with 1 Axes>"
      ]
     },
     "metadata": {},
     "output_type": "display_data"
    }
   ],
   "source": [
    "coeff = [0.5, 0.05]\n",
    "npts=128\n",
    "x=np.linspace(0,npts,npts)\n",
    "(ph,n) = seed_photons(npts,1,1)\n",
    "\n",
    "plt.plot(x,ph)\n",
    "def adc_filter(ph,coeff):\n",
    "    for j in range(2):\n",
    "        accu = ph[0]\n",
    "        for i in range(npts):\n",
    "            accu = accu+ (coeff[j]*(ph[i] - accu))\n",
    "            ph[i] = accu\n",
    "    return ph\n",
    "\n",
    "ph = adc_filter(ph,coeff)\n",
    "\n",
    "plt.plot(x,ph)"
   ]
  },
  {
   "cell_type": "code",
   "execution_count": null,
   "metadata": {},
   "outputs": [],
   "source": [
    "import scipy.signal as sc\n",
    "from mpl_interactions import ioff, panhandler, zoom_factory\n",
    "%matplotlib widget\n",
    "npts=256\n",
    "x=np.linspace(0,npts,npts)\n",
    "(ph,n) = seed_photons(npts,1,1)\n",
    "c = np.array([0.5,0.05])\n",
    "\n",
    "M = np.ndarray(shape=(10,6))\n",
    "#plt.plot(x,ph,label='pulse')\n",
    "with plt.ioff():\n",
    "    figure, axis = plt.subplots()\n",
    "\n",
    "for i in range(1,11):\n",
    "    c_1 =[0,0]\n",
    "    c_1[0] = c[0]\n",
    "    c_1[1]=c[1]*i\n",
    "\n",
    "    signal = adc_filter(ph,c_1)\n",
    "    plt.plot(x,ph,linewidth=1,label=('b2= '+str('{0:.3g}'.format(0.5*i))),)\n",
    "\n",
    "    (peak_index, props) = sc.find_peaks(signal,height=2,width=2)\n",
    "    j = peak_index\n",
    "    while j> peak_index-1:\n",
    "        if signal[j]<1:\n",
    "            t_descent=j-peak_index\n",
    "            break\n",
    "        j=j+1\n",
    "    j = peak_index\n",
    "    while j< peak_index+1:\n",
    "        if signal[j]<1:\n",
    "            t_rise=abs(j-peak_index)\n",
    "            break\n",
    "        j=j-1\n",
    "\n",
    "    M[i-1,0]=round(c_1[1],3)\n",
    "    M[i-1,1]=props['peak_heights']\n",
    "    M[i-1,2]=props['widths']\n",
    "    M[i-1,3]=peak_index\n",
    "    M[i-1,4]=t_descent\n",
    "    M[i-1,5] =t_rise\n",
    "\n",
    "\n",
    "\n",
    "\n",
    "plt.legend()\n",
    "disconnect_zoom = zoom_factory(axis)\n",
    "pan_handler = panhandler(figure)\n",
    "display(figure.canvas)\n",
    "print(M)"
   ]
  },
  {
   "cell_type": "code",
   "execution_count": null,
   "metadata": {},
   "outputs": [],
   "source": [
    "plt.figure()\n",
    "species = M[:, 0]\n",
    "penguin_means = {\n",
    "    't_rise': M[:, 5],\n",
    "    't_fall': M[:, 4],\n",
    "    'peak_width': M[:, 2],\n",
    "    'peak_height': M[:, 1],  # This will be plotted on the secondary y-axis\n",
    "}\n",
    "\n",
    "x = np.arange(len(species))  # the label locations\n",
    "bar_width = 0.2  # the width of the bars\n",
    "multiplier = 0\n",
    "\n",
    "fig, ax = plt.subplots(layout='constrained')\n",
    "\n",
    "# Primary y-axis for all attributes except 'peak_height'\n",
    "for attribute, measurement in penguin_means.items():\n",
    "    if attribute != 'peak_height':  # Plot only t_rise, t_fall, and peak_width here\n",
    "        offset = bar_width * multiplier\n",
    "        rects = ax.bar(x + offset, measurement, bar_width, label=attribute)\n",
    "        multiplier += 1\n",
    "\n",
    "# Secondary y-axis for 'peak_height'\n",
    "ax2 = ax.twinx()\n",
    "offset = bar_width * multiplier\n",
    "rects = ax2.bar(x + offset, penguin_means['peak_height'], bar_width, color='purple', label='peak_height')\n",
    "\n",
    "# Set y-axis labels\n",
    "ax.set_xlabel('b2 coefficient')\n",
    "ax.set_ylabel('time (arb units)')\n",
    "ax2.set_ylabel('Intensity (peak height) (arb units)')\n",
    "\n",
    "# Setting x-axis and title\n",
    "ax.set_title('Measurement Comparison for different b2 coeffs')\n",
    "ax.set_xticks(x + bar_width * (len(penguin_means) - 1) / 2, species)\n",
    "\n",
    "# Display legends for both axes\n",
    "fig.legend(loc='upper left', bbox_to_anchor=(0.1, 0.9), ncols=4)\n",
    "\n",
    "# Set limits as needed\n",
    "ax.set_ylim(0, 90)\n",
    "ax2.set_ylim(0, max(penguin_means['peak_height']) + 10)  # Adjust this limit based on peak height\n",
    "\n",
    "plt.show()\n"
   ]
  },
  {
   "cell_type": "code",
   "execution_count": 3,
   "metadata": {},
   "outputs": [
    {
     "name": "stderr",
     "output_type": "stream",
     "text": [
      "No artists with labels found to put in legend.  Note that artists whose label start with an underscore are ignored when legend() is called with no argument.\n"
     ]
    },
    {
     "data": {
      "application/vnd.jupyter.widget-view+json": {
       "model_id": "0cad3bc3661f42da8c521a3a57156f61",
       "version_major": 2,
       "version_minor": 0
      },
      "image/png": "[encoded data removed]",
      "text/html": [
       "\n",
       "            <div style=\"display: inline-block;\">\n",
       "                <div class=\"jupyter-widgets widget-label\" style=\"text-align: center;\">\n",
       "                    Figure\n",
       "                </div>\n",
       "                <img src='data:image/png;base64,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' width=640.0/>\n",
       "            </div>\n",
       "        "
      ],
      "text/plain": [
       "Canvas(capture_scroll=True, toolbar=Toolbar(toolitems=[('Home', 'Reset original view', 'home', 'home'), ('Back…"
      ]
     },
     "metadata": {},
     "output_type": "display_data"
    },
    {
     "name": "stderr",
     "output_type": "stream",
     "text": [
      "/var/folders/tg/93p_t0m14wj5vy6rvz3cljjh0000gn/T/ipykernel_12140/3608692432.py:31: DeprecationWarning: The truth value of an empty array is ambiguous. Returning False, but in future this will result in an error. Use `array.size > 0` to check that an array is not empty.\n",
      "  while j>=peak_index:\n",
      "/var/folders/tg/93p_t0m14wj5vy6rvz3cljjh0000gn/T/ipykernel_12140/3608692432.py:39: DeprecationWarning: The truth value of an empty array is ambiguous. Returning False, but in future this will result in an error. Use `array.size > 0` to check that an array is not empty.\n",
      "  while j< peak_index+1:\n"
     ]
    },
    {
     "name": "stdout",
     "output_type": "stream",
     "text": [
      "[52]\n",
      "[3.52361397]\n",
      "[81]\n",
      "[2.59608052]\n",
      "[106]\n",
      "[2.24103581]\n",
      "[129]\n",
      "[2.02748001]\n",
      "[]\n",
      "[]\n"
     ]
    },
    {
     "ename": "ValueError",
     "evalue": "setting an array element with a sequence.",
     "output_type": "error",
     "traceback": [
      "\u001b[0;31m---------------------------------------------------------------------------\u001b[0m",
      "\u001b[0;31mTypeError\u001b[0m                                 Traceback (most recent call last)",
      "\u001b[0;31mTypeError\u001b[0m: only size-1 arrays can be converted to Python scalars",
      "\nThe above exception was the direct cause of the following exception:\n",
      "\u001b[0;31mValueError\u001b[0m                                Traceback (most recent call last)",
      "Cell \u001b[0;32mIn[3], line 46\u001b[0m\n\u001b[1;32m     43\u001b[0m     j\u001b[38;5;241m=\u001b[39mj\u001b[38;5;241m-\u001b[39m\u001b[38;5;241m1\u001b[39m\n\u001b[1;32m     45\u001b[0m M[i\u001b[38;5;241m-\u001b[39m\u001b[38;5;241m1\u001b[39m,\u001b[38;5;241m0\u001b[39m]\u001b[38;5;241m=\u001b[39m\u001b[38;5;28mround\u001b[39m(c_1[\u001b[38;5;241m0\u001b[39m],\u001b[38;5;241m3\u001b[39m)\n\u001b[0;32m---> 46\u001b[0m M[i\u001b[38;5;241m-\u001b[39m\u001b[38;5;241m1\u001b[39m,\u001b[38;5;241m1\u001b[39m]\u001b[38;5;241m=\u001b[39mprops[\u001b[38;5;124m'\u001b[39m\u001b[38;5;124mpeak_heights\u001b[39m\u001b[38;5;124m'\u001b[39m]\n\u001b[1;32m     47\u001b[0m M[i\u001b[38;5;241m-\u001b[39m\u001b[38;5;241m1\u001b[39m,\u001b[38;5;241m2\u001b[39m]\u001b[38;5;241m=\u001b[39mprops[\u001b[38;5;124m'\u001b[39m\u001b[38;5;124mwidths\u001b[39m\u001b[38;5;124m'\u001b[39m]\n\u001b[1;32m     48\u001b[0m M[i\u001b[38;5;241m-\u001b[39m\u001b[38;5;241m1\u001b[39m,\u001b[38;5;241m3\u001b[39m]\u001b[38;5;241m=\u001b[39mpeak_index\n",
      "\u001b[0;31mValueError\u001b[0m: setting an array element with a sequence."
     ]
    }
   ],
   "source": [
    "import scipy.signal as sc\n",
    "from mpl_interactions import ioff, panhandler, zoom_factory\n",
    "%matplotlib widget\n",
    "npts=256\n",
    "x=np.linspace(0,npts,npts)\n",
    "(ph,n) = seed_photons(npts,1,1)\n",
    "c = np.array([0.05,0.05])\n",
    "\n",
    "M = np.ndarray(shape=(10,6))\n",
    "#plt.plot(x,ph,label='pulse')\n",
    "with plt.ioff():\n",
    "    figure, axis = plt.subplots()\n",
    "\n",
    "plt.legend()\n",
    "disconnect_zoom = zoom_factory(axis)\n",
    "pan_handler = panhandler(figure)\n",
    "display(figure.canvas)\n",
    "\n",
    "for i in range(1,11):\n",
    "    c_1 =[0,0]\n",
    "    c_1[1] = c[1]\n",
    "    c_1[0]=c[0]*i\n",
    "\n",
    "    signal = adc_filter(ph,c_1)\n",
    "    plt.plot(x,ph,linewidth=1,label=('b2= '+str('{0:.3g}'.format(0.05*i))),)\n",
    "\n",
    "    (peak_index, props) = sc.find_peaks(signal,height=2,width=2)\n",
    "    j = peak_index\n",
    "    print(peak_index)\n",
    "    print(props['peak_heights'])\n",
    "    while j>=peak_index:\n",
    "        if j == 256:\n",
    "            break\n",
    "        elif signal[j]<1:\n",
    "            t_descent=j-peak_index\n",
    "            break\n",
    "        j=j+1\n",
    "    j = peak_index\n",
    "    while j< peak_index+1:\n",
    "        if signal[j]<1:\n",
    "            t_rise=abs(j-peak_index)\n",
    "            break\n",
    "        j=j-1\n",
    "\n",
    "    M[i-1,0]=round(c_1[0],3)\n",
    "    M[i-1,1]=props['peak_heights']\n",
    "    M[i-1,2]=props['widths']\n",
    "    M[i-1,3]=peak_index\n",
    "    M[i-1,4]=t_descent\n",
    "    M[i-1,5] =t_rise\n",
    "\n",
    "\n",
    "\n",
    "\n",
    "\n",
    "print(M)"
   ]
  }
 ],
 "metadata": {
  "kernelspec": {
   "display_name": "Python 3.11.5 ('base')",
   "language": "python",
   "name": "python3"
  },
  "language_info": {
   "codemirror_mode": {
    "name": "ipython",
    "version": 3
   },
   "file_extension": ".py",
   "mimetype": "text/x-python",
   "name": "python",
   "nbconvert_exporter": "python",
   "pygments_lexer": "ipython3",
   "version": "3.11.5"
  },
  "orig_nbformat": 4,
  "vscode": {
   "interpreter": {
    "hash": "f1e70b7817fc2acd15a9b8fc3815e293e088f2554dcf67af826af76503282d5b"
   }
  }
 },
 "nbformat": 4,
 "nbformat_minor": 2
}
